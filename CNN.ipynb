{
  "cells": [
    {
      "cell_type": "code",
      "execution_count": null,
      "metadata": {
        "id": "f3fbaea6"
      },
      "outputs": [],
      "source": [
        "import tensorflow as tf\n",
        "from tensorflow.keras import datasets, layers, models\n",
        "from tensorflow import keras\n",
        "from tensorflow.keras.preprocessing.image import ImageDataGenerator\n",
        "import matplotlib.pyplot as plt\n",
        "import numpy as np"
      ],
      "id": "f3fbaea6"
    },
    {
      "cell_type": "code",
      "execution_count": null,
      "metadata": {
        "colab": {
          "base_uri": "https://localhost:8080/"
        },
        "id": "6ca2c25d",
        "outputId": "14f47a3f-9020-464a-9941-e8fd901c443b"
      },
      "outputs": [
        {
          "name": "stdout",
          "output_type": "stream",
          "text": [
            "Downloading data from https://www.cs.toronto.edu/~kriz/cifar-10-python.tar.gz\n",
            "170498071/170498071 [==============================] - 2s 0us/step\n"
          ]
        },
        {
          "data": {
            "text/plain": [
              "(50000, 32, 32, 3)"
            ]
          },
          "execution_count": 2,
          "metadata": {},
          "output_type": "execute_result"
        }
      ],
      "source": [
        "(X_train, y_train), (X_test,y_test) = datasets.cifar10.load_data()\n",
        "X_train.shape"
      ],
      "id": "6ca2c25d"
    },
    {
      "cell_type": "code",
      "execution_count": null,
      "metadata": {
        "colab": {
          "base_uri": "https://localhost:8080/"
        },
        "id": "7d2906fc",
        "outputId": "a30312ae-b0c7-4559-b66b-a24dca8fcdab"
      },
      "outputs": [
        {
          "data": {
            "text/plain": [
              "(10000, 32, 32, 3)"
            ]
          },
          "execution_count": 3,
          "metadata": {},
          "output_type": "execute_result"
        }
      ],
      "source": [
        "X_test.shape"
      ],
      "id": "7d2906fc"
    },
    {
      "cell_type": "code",
      "execution_count": null,
      "metadata": {
        "colab": {
          "base_uri": "https://localhost:8080/"
        },
        "id": "ecb78223",
        "outputId": "57f91859-a94a-45a1-9b48-3a11eff5a27e"
      },
      "outputs": [
        {
          "data": {
            "text/plain": [
              "(50000, 1)"
            ]
          },
          "execution_count": 4,
          "metadata": {},
          "output_type": "execute_result"
        }
      ],
      "source": [
        "y_train.shape"
      ],
      "id": "ecb78223"
    },
    {
      "cell_type": "code",
      "execution_count": null,
      "metadata": {
        "colab": {
          "base_uri": "https://localhost:8080/"
        },
        "id": "6779fe1f",
        "outputId": "9389bf0d-7412-4b5e-e78d-0cc1637f3ec2"
      },
      "outputs": [
        {
          "data": {
            "text/plain": [
              "array([[6],\n",
              "       [9],\n",
              "       [9],\n",
              "       [4],\n",
              "       [1]], dtype=uint8)"
            ]
          },
          "execution_count": 5,
          "metadata": {},
          "output_type": "execute_result"
        }
      ],
      "source": [
        "y_train[:5]#-->2D array"
      ],
      "id": "6779fe1f"
    },
    {
      "cell_type": "code",
      "execution_count": null,
      "metadata": {
        "id": "efb91302"
      },
      "outputs": [],
      "source": [
        "y_train = y_train.reshape(-1,)"
      ],
      "id": "efb91302"
    },
    {
      "cell_type": "code",
      "execution_count": null,
      "metadata": {
        "colab": {
          "base_uri": "https://localhost:8080/"
        },
        "id": "0f9a6724",
        "outputId": "d90d4b25-a1c4-4fe0-97f2-d9784cd1cdc1"
      },
      "outputs": [
        {
          "data": {
            "text/plain": [
              "array([[3],\n",
              "       [8],\n",
              "       [8],\n",
              "       [0],\n",
              "       [6]], dtype=uint8)"
            ]
          },
          "execution_count": 7,
          "metadata": {},
          "output_type": "execute_result"
        }
      ],
      "source": [
        "y_test[:5]"
      ],
      "id": "0f9a6724"
    },
    {
      "cell_type": "code",
      "execution_count": null,
      "metadata": {
        "colab": {
          "base_uri": "https://localhost:8080/"
        },
        "id": "96c12593",
        "outputId": "ace03636-e13f-44e8-fbab-2d4e3038502d"
      },
      "outputs": [
        {
          "data": {
            "text/plain": [
              "(50000,)"
            ]
          },
          "execution_count": 8,
          "metadata": {},
          "output_type": "execute_result"
        }
      ],
      "source": [
        "y_train.shape"
      ],
      "id": "96c12593"
    },
    {
      "cell_type": "code",
      "execution_count": null,
      "metadata": {
        "id": "7ae7afff"
      },
      "outputs": [],
      "source": [
        "y_test = y_test.reshape(-1,)"
      ],
      "id": "7ae7afff"
    },
    {
      "cell_type": "code",
      "execution_count": null,
      "metadata": {
        "id": "74ee496f"
      },
      "outputs": [],
      "source": [
        "classes = [\"airplane\",\"automobile\",\"bird\",\"cat\",\"deer\",\"dog\",\"frog\",\"horse\",\"ship\",\"truck\"]"
      ],
      "id": "74ee496f"
    },
    {
      "cell_type": "code",
      "execution_count": null,
      "metadata": {
        "id": "2a55e285"
      },
      "outputs": [],
      "source": [
        "def plot_sample(X, y, index):\n",
        "    plt.figure(figsize = (15,2))\n",
        "    plt.imshow(X[index])\n",
        "    plt.xlabel(classes[y[index]])"
      ],
      "id": "2a55e285"
    },
    {
      "cell_type": "code",
      "execution_count": null,
      "metadata": {
        "colab": {
          "base_uri": "https://localhost:8080/",
          "height": 237
        },
        "id": "db76e1ba",
        "outputId": "1900427c-7fc0-4691-f2a9-fa0e8a868510"
      },
      "outputs": [
        {
          "data": {
            "image/png": "[encoded data removed]",
            "text/plain": [
              "<Figure size 1500x200 with 1 Axes>"
            ]
          },
          "metadata": {},
          "output_type": "display_data"
        }
      ],
      "source": [
        "plot_sample(X_train, y_train, 0)"
      ],
      "id": "db76e1ba"
    },
    {
      "cell_type": "code",
      "execution_count": null,
      "metadata": {
        "colab": {
          "base_uri": "https://localhost:8080/",
          "height": 237
        },
        "id": "57911415",
        "outputId": "98a5d803-e7d5-47eb-df4c-67e647a29b88"
      },
      "outputs": [
        {
          "data": {
            "image/png": "[encoded data removed]",
            "text/plain": [
              "<Figure size 1500x200 with 1 Axes>"
            ]
          },
          "metadata": {},
          "output_type": "display_data"
        }
      ],
      "source": [
        "plot_sample(X_train, y_train, 1)"
      ],
      "id": "57911415"
    },
    {
      "cell_type": "markdown",
      "metadata": {
        "id": "c3ddc260"
      },
      "source": [
        "Normalize the images to a number from 0 to 1. Image has 3 channels (R,G,B) and each value in the channel can range from 0 to 255. Hence to normalize in 0-->1 range, we need to divide it by 255"
      ],
      "id": "c3ddc260"
    },
    {
      "cell_type": "code",
      "execution_count": null,
      "metadata": {
        "id": "9a1c8474"
      },
      "outputs": [],
      "source": [
        "X_train = X_train / 255.0\n",
        "X_test = X_test / 255.0"
      ],
      "id": "9a1c8474"
    },
    {
      "cell_type": "markdown",
      "metadata": {
        "id": "080ddaee"
      },
      "source": [
        "# CNN"
      ],
      "id": "080ddaee"
    },
    {
      "cell_type": "code",
      "execution_count": null,
      "metadata": {
        "colab": {
          "base_uri": "https://localhost:8080/"
        },
        "id": "h7dK6QopJ3J7",
        "outputId": "41891e6e-adf8-473c-e994-14c787b14f36"
      },
      "outputs": [
        {
          "name": "stdout",
          "output_type": "stream",
          "text": [
            "Model: \"sequential\"\n",
            "_________________________________________________________________\n",
            " Layer (type)                Output Shape              Param #   \n",
            "=================================================================\n",
            " conv2d (Conv2D)             (None, 32, 32, 64)        4864      \n",
            "                                                                 \n",
            " conv2d_1 (Conv2D)           (None, 32, 32, 128)       73856     \n",
            "                                                                 \n",
            " max_pooling2d (MaxPooling2D  (None, 16, 16, 128)      0         \n",
            " )                                                               \n",
            "                                                                 \n",
            " conv2d_2 (Conv2D)           (None, 16, 16, 128)       147584    \n",
            "                                                                 \n",
            " conv2d_3 (Conv2D)           (None, 16, 16, 128)       147584    \n",
            "                                                                 \n",
            " max_pooling2d_1 (MaxPooling  (None, 8, 8, 128)        0         \n",
            " 2D)                                                             \n",
            "                                                                 \n",
            " conv2d_4 (Conv2D)           (None, 8, 8, 128)         147584    \n",
            "                                                                 \n",
            " conv2d_5 (Conv2D)           (None, 8, 8, 128)         147584    \n",
            "                                                                 \n",
            " max_pooling2d_2 (MaxPooling  (None, 4, 4, 128)        0         \n",
            " 2D)                                                             \n",
            "                                                                 \n",
            " flatten (Flatten)           (None, 2048)              0         \n",
            "                                                                 \n",
            " dense (Dense)               (None, 128)               262272    \n",
            "                                                                 \n",
            " dense_1 (Dense)             (None, 64)                8256      \n",
            "                                                                 \n",
            " dense_2 (Dense)             (None, 10)                650       \n",
            "                                                                 \n",
            "=================================================================\n",
            "Total params: 940,234\n",
            "Trainable params: 940,234\n",
            "Non-trainable params: 0\n",
            "_________________________________________________________________\n"
          ]
        }
      ],
      "source": [
        "# CNN model, with 6 convolutional layers, 3 pooling layers, and 3 dense layers. Softmax output layer.\n",
        "model = models.Sequential()\n",
        "\n",
        "model.add(layers.Conv2D(64, (5,5), padding='same', activation='relu', input_shape=(32,32,3)))\n",
        "model.add(layers.Conv2D(128, (3,3), padding='same', activation='relu'))\n",
        "model.add(layers.MaxPooling2D(pool_size=(2,2),strides=(2,2)))\n",
        "\n",
        "model.add(layers.Conv2D(128, (3,3), padding='same', activation='relu'))\n",
        "model.add(layers.Conv2D(128, (3,3), padding='same', activation='relu'))\n",
        "model.add(layers.MaxPooling2D(pool_size=(2,2)))\n",
        "\n",
        "model.add(layers.Conv2D(128, (3,3), padding='same', activation='relu'))\n",
        "model.add(layers.Conv2D(128, (3,3), padding='same', activation='relu'))\n",
        "model.add(layers.MaxPooling2D(pool_size=(2,2)))\n",
        "\n",
        "model.add(layers.Flatten())\n",
        "model.add(layers.Dense(128, activation='relu'))\n",
        "model.add(layers.Dense(64, activation='relu'))\n",
        "model.add(layers.Dense(10, activation='softmax'))\n",
        "\n",
        "model.summary()"
      ],
      "id": "h7dK6QopJ3J7"
    },
    {
      "cell_type": "code",
      "execution_count": null,
      "metadata": {
        "id": "pwP0yH6gJ-Ua"
      },
      "outputs": [],
      "source": [
        "model.compile(optimizer='adam',\n",
        "              loss=tf.keras.losses.SparseCategoricalCrossentropy(),\n",
        "              metrics=['accuracy'])"
      ],
      "id": "pwP0yH6gJ-Ua"
    },
    {
      "cell_type": "code",
      "execution_count": null,
      "metadata": {
        "id": "_XghaxTEJvP1"
      },
      "outputs": [],
      "source": [
        "# We augment the training data within the mini-batches to try to reduce generalization error\n",
        "datagen = ImageDataGenerator(\n",
        "    horizontal_flip=True,\n",
        "    channel_shift_range=0.05,\n",
        "    rotation_range=10,\n",
        "    validation_split=0.15\n",
        ")"
      ],
      "id": "_XghaxTEJvP1"
    },
    {
      "cell_type": "code",
      "execution_count": null,
      "metadata": {
        "colab": {
          "base_uri": "https://localhost:8080/",
          "height": 284
        },
        "id": "_0ZECSbnKPtI",
        "outputId": "8bcd1055-2e12-4f55-a674-450a3aebce97"
      },
      "outputs": [
        {
          "data": {
            "image/png": "[encoded data removed]",
            "text/plain": [
              "<Figure size 640x480 with 2 Axes>"
            ]
          },
          "metadata": {},
          "output_type": "display_data"
        }
      ],
      "source": [
        "# An example transformation\n",
        "\n",
        "img = X_train[4]\n",
        "\n",
        "fig, ax = plt.subplots(1,2)\n",
        "ax[0].imshow(img)\n",
        "ax[0].set_title(\"Original image\")\n",
        "ax[1].imshow(datagen.apply_transform(img,{'theta':-10,'channel_shift_intensity':0.05,'flip_horizontal':True}))\n",
        "ax[1].set_title(\"Example transformation\")\n",
        "\n",
        "for i in range(2):\n",
        "  ax[i].set_xticks([])\n",
        "  ax[i].set_yticks([])\n",
        "plt.show()"
      ],
      "id": "_0ZECSbnKPtI"
    },
    {
      "cell_type": "code",
      "execution_count": null,
      "metadata": {
        "colab": {
          "background_save": true,
          "base_uri": "https://localhost:8080/"
        },
        "id": "fCkijJPFKUHY",
        "outputId": "18bf277e-1b8b-4487-94f2-4ec04cb739c5"
      },
      "outputs": [
        {
          "name": "stdout",
          "output_type": "stream",
          "text": [
            "Epoch 1/70\n",
            "1329/1329 [==============================] - 1287s 966ms/step - loss: 1.6903 - accuracy: 0.3747 - val_loss: 1.4574 - val_accuracy: 0.4681\n",
            "Epoch 2/70\n",
            "1329/1329 [==============================] - 1295s 974ms/step - loss: 1.2780 - accuracy: 0.5391 - val_loss: 1.2012 - val_accuracy: 0.5760\n",
            "Epoch 3/70\n",
            "1329/1329 [==============================] - 1299s 977ms/step - loss: 1.0748 - accuracy: 0.6173 - val_loss: 1.0059 - val_accuracy: 0.6479\n",
            "Epoch 4/70\n",
            "1329/1329 [==============================] - 1318s 992ms/step - loss: 0.9314 - accuracy: 0.6724 - val_loss: 0.8988 - val_accuracy: 0.6867\n",
            "Epoch 5/70\n",
            " 961/1329 [====================>.........] - ETA: 5:45 - loss: 0.8646 - accuracy: 0.6971"
          ]
        }
      ],
      "source": [
        "# Train the model, including an early stopping if we can't reduce the loss further\n",
        "\n",
        "early_stopping = keras.callbacks.EarlyStopping(monitor='loss',patience=10)\n",
        "\n",
        "training_flow = datagen.flow(X_train, y_train, subset='training')\n",
        "validation_flow = datagen.flow(X_train, y_train, subset='validation', shuffle=False)\n",
        "\n",
        "history = model.fit(training_flow,\n",
        "                    validation_data=validation_flow,\n",
        "                    callbacks=[early_stopping],\n",
        "                    epochs=70)"
      ],
      "id": "fCkijJPFKUHY"
    },
    {
      "cell_type": "code",
      "execution_count": null,
      "metadata": {
        "id": "a0132f19"
      },
      "outputs": [],
      "source": [
        "cnn = models.Sequential([\n",
        "    layers.Conv2D(filters=32, kernel_size=(3, 3), activation='relu', input_shape=(32, 32, 3)),\n",
        "    layers.MaxPooling2D((2, 2)),\n",
        "\n",
        "    layers.Conv2D(filters=32, kernel_size=(3, 3), activation='relu'),\n",
        "    layers.MaxPooling2D((2, 2)),\n",
        "\n",
        "    layers.Flatten(),\n",
        "    layers.Dense(64, activation='relu'),\n",
        "    layers.Dense(10, activation='softmax')\n",
        "])"
      ],
      "id": "a0132f19"
    },
    {
      "cell_type": "code",
      "execution_count": null,
      "metadata": {
        "id": "000f2781"
      },
      "outputs": [],
      "source": [
        "cnn.compile(optimizer='SGD',\n",
        "              loss='sparse_categorical_crossentropy',\n",
        "              metrics=['accuracy'])"
      ],
      "id": "000f2781"
    },
    {
      "cell_type": "code",
      "execution_count": null,
      "metadata": {
        "id": "90e0c655",
        "outputId": "2fa764e3-2f64-4208-bfea-349a0fb25f23"
      },
      "outputs": [
        {
          "name": "stdout",
          "output_type": "stream",
          "text": [
            "Epoch 1/10\n",
            "1563/1563 [==============================] - 40s 25ms/step - loss: 2.1828 - accuracy: 0.1936\n",
            "Epoch 2/10\n",
            "1563/1563 [==============================] - 42s 27ms/step - loss: 1.7471 - accuracy: 0.3757\n",
            "Epoch 3/10\n",
            "1563/1563 [==============================] - 39s 25ms/step - loss: 1.5325 - accuracy: 0.4487\n",
            "Epoch 4/10\n",
            "1563/1563 [==============================] - 39s 25ms/step - loss: 1.4115 - accuracy: 0.4948\n",
            "Epoch 5/10\n",
            "1563/1563 [==============================] - 42s 27ms/step - loss: 1.3262 - accuracy: 0.5297\n",
            "Epoch 6/10\n",
            "1563/1563 [==============================] - 40s 26ms/step - loss: 1.2589 - accuracy: 0.5564\n",
            "Epoch 7/10\n",
            "1563/1563 [==============================] - 40s 26ms/step - loss: 1.1929 - accuracy: 0.5806\n",
            "Epoch 8/10\n",
            "1563/1563 [==============================] - 46s 29ms/step - loss: 1.1424 - accuracy: 0.5983\n",
            "Epoch 9/10\n",
            "1563/1563 [==============================] - 40s 26ms/step - loss: 1.0897 - accuracy: 0.6207\n",
            "Epoch 10/10\n",
            "1563/1563 [==============================] - 41s 26ms/step - loss: 1.0515 - accuracy: 0.6315\n"
          ]
        },
        {
          "data": {
            "text/plain": [
              "<tensorflow.python.keras.callbacks.History at 0x241f5b6b4c0>"
            ]
          },
          "execution_count": 71,
          "metadata": {},
          "output_type": "execute_result"
        }
      ],
      "source": [
        "cnn.fit(X_train, y_train, epochs=10)"
      ],
      "id": "90e0c655"
    },
    {
      "cell_type": "code",
      "execution_count": null,
      "metadata": {
        "id": "42290f1d",
        "outputId": "df338ea2-5cd1-4c2a-a70b-47c8f8ba1bf8"
      },
      "outputs": [
        {
          "name": "stdout",
          "output_type": "stream",
          "text": [
            "313/313 [==============================] - 2s 7ms/step - loss: 1.1012 - accuracy: 0.6177\n"
          ]
        },
        {
          "data": {
            "text/plain": [
              "[1.1012343168258667, 0.6176999807357788]"
            ]
          },
          "execution_count": 72,
          "metadata": {},
          "output_type": "execute_result"
        }
      ],
      "source": [
        "cnn.evaluate(X_test,y_test)"
      ],
      "id": "42290f1d"
    },
    {
      "cell_type": "code",
      "execution_count": null,
      "metadata": {
        "id": "826d4d8e",
        "outputId": "d2b7fe42-81c5-4855-b480-b20a6ff9e6cd"
      },
      "outputs": [
        {
          "data": {
            "text/plain": [
              "array([4.9977008e-02, 7.0265271e-03, 1.3398340e-01, 5.1612610e-01,\n",
              "       6.7959033e-02, 1.1137012e-01, 4.0963363e-02, 1.1676057e-02,\n",
              "       6.0413342e-02, 5.0505041e-04], dtype=float32)"
            ]
          },
          "execution_count": 73,
          "metadata": {},
          "output_type": "execute_result"
        }
      ],
      "source": [
        "y_pred = cnn.predict(X_test)\n",
        "y_pred[0]"
      ],
      "id": "826d4d8e"
    }
  ],
  "metadata": {
    "colab": {
      "provenance": []
    },
    "kernelspec": {
      "display_name": "Python 3",
      "language": "python",
      "name": "python3"
    },
    "language_info": {
      "codemirror_mode": {
        "name": "ipython",
        "version": 3
      },
      "file_extension": ".py",
      "mimetype": "text/x-python",
      "name": "python",
      "nbconvert_exporter": "python",
      "pygments_lexer": "ipython3",
      "version": "3.8.8"
    }
  },
  "nbformat": 4,
  "nbformat_minor": 5
}